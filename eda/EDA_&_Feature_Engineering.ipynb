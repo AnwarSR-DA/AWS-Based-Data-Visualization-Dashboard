{
  "nbformat": 4,
  "nbformat_minor": 0,
  "metadata": {
    "colab": {
      "provenance": [],
      "authorship_tag": "ABX9TyPdwXX+4Q5BEb2UqhPpFugB",
      "include_colab_link": true
    },
    "kernelspec": {
      "name": "python3",
      "display_name": "Python 3"
    },
    "language_info": {
      "name": "python"
    }
  },
  "cells": [
    {
      "cell_type": "markdown",
      "metadata": {
        "id": "view-in-github",
        "colab_type": "text"
      },
      "source": [
        "<a href=\"https://colab.research.google.com/github/AnwarSR-DA/AWS-Based-Data-Visualization-Dashboard/blob/main/eda/EDA_%26_Feature_Engineering.ipynb\" target=\"_parent\"><img src=\"https://colab.research.google.com/assets/colab-badge.svg\" alt=\"Open In Colab\"/></a>"
      ]
    },
    {
      "cell_type": "code",
      "execution_count": 1,
      "metadata": {
        "colab": {
          "base_uri": "https://localhost:8080/"
        },
        "id": "Y6EfU5ZlwmoB",
        "outputId": "0235a822-88b8-48f3-fbd4-0d9dd25ff779"
      },
      "outputs": [
        {
          "output_type": "stream",
          "name": "stdout",
          "text": [
            "EDA notebook started\n"
          ]
        }
      ],
      "source": [
        "import pandas as pd\n",
        "print(\"EDA notebook started\")"
      ]
    },
    {
      "cell_type": "code",
      "source": [],
      "metadata": {
        "id": "f8R5aHlww7Lv"
      },
      "execution_count": null,
      "outputs": []
    }
  ]
}